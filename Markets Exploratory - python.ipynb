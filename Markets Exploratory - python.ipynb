{
 "cells": [
  {
   "cell_type": "code",
   "execution_count": null,
   "id": "60c30342",
   "metadata": {},
   "outputs": [],
   "source": [
    "# SOURCE:  https://github.com/atreadw1492/yahoo_fin/blob/master/yahoo_fin/stock_info.py"
   ]
  },
  {
   "cell_type": "code",
   "execution_count": null,
   "id": "735c8ac3",
   "metadata": {},
   "outputs": [],
   "source": [
    "# finviz:  https://www.youtube.com/watch?v=cGL1FJKEfAk\n",
    "\n",
    "# Other examples\n",
    "# https://www.youtube.com/watch?v=Ibgk3L96kco"
   ]
  },
  {
   "cell_type": "code",
   "execution_count": null,
   "id": "4b259969",
   "metadata": {},
   "outputs": [],
   "source": [
    "# DOCU:   https://theautomatic.net/yahoo_fin-documentation/"
   ]
  },
  {
   "cell_type": "markdown",
   "id": "4a36d989-a57d-4e45-8a4c-be86e7a16689",
   "metadata": {},
   "source": [
    "## Install libraries"
   ]
  },
  {
   "cell_type": "code",
   "execution_count": null,
   "id": "e62f30f1-b8a2-4929-be7c-40bab83425d8",
   "metadata": {},
   "outputs": [],
   "source": [
    "# !pip install yahoo_fin"
   ]
  },
  {
   "cell_type": "code",
   "execution_count": null,
   "id": "88e049e7",
   "metadata": {},
   "outputs": [],
   "source": [
    "# !pip install pandas_datareader"
   ]
  },
  {
   "cell_type": "markdown",
   "id": "66b1141f-2c3f-4551-a625-087a8f588ba6",
   "metadata": {},
   "source": [
    "## Import libraries"
   ]
  },
  {
   "cell_type": "code",
   "execution_count": 1,
   "id": "48337d50-f7d3-4306-88dc-5ed72ccc2fec",
   "metadata": {},
   "outputs": [],
   "source": [
    "# this are from my .py files\n",
    "import yahoo_finance_stocks as yf\n",
    "import pandas_datareader_stocks as datareader"
   ]
  },
  {
   "cell_type": "code",
   "execution_count": 59,
   "id": "56c43db3",
   "metadata": {},
   "outputs": [],
   "source": [
    "import datetime as dt\n",
    "import pandas as pd"
   ]
  },
  {
   "cell_type": "markdown",
   "id": "830380aa",
   "metadata": {},
   "source": [
    "## Correlation SPY AND VIX"
   ]
  },
  {
   "cell_type": "code",
   "execution_count": null,
   "id": "55a56666",
   "metadata": {},
   "outputs": [],
   "source": [
    "# I want to validate when VIX and SPY open negative, so SPY close positive"
   ]
  },
  {
   "cell_type": "code",
   "execution_count": 131,
   "id": "1aafc4ea",
   "metadata": {},
   "outputs": [
    {
     "data": {
      "text/html": [
       "<div>\n",
       "<style scoped>\n",
       "    .dataframe tbody tr th:only-of-type {\n",
       "        vertical-align: middle;\n",
       "    }\n",
       "\n",
       "    .dataframe tbody tr th {\n",
       "        vertical-align: top;\n",
       "    }\n",
       "\n",
       "    .dataframe thead th {\n",
       "        text-align: right;\n",
       "    }\n",
       "</style>\n",
       "<table border=\"1\" class=\"dataframe\">\n",
       "  <thead>\n",
       "    <tr style=\"text-align: right;\">\n",
       "      <th></th>\n",
       "      <th>Date</th>\n",
       "      <th>prev_close</th>\n",
       "      <th>chg%_premarket</th>\n",
       "      <th>Open</th>\n",
       "      <th>Close</th>\n",
       "    </tr>\n",
       "  </thead>\n",
       "  <tbody>\n",
       "    <tr>\n",
       "      <th>200</th>\n",
       "      <td>2022-10-19</td>\n",
       "      <td>30.50</td>\n",
       "      <td>1.422</td>\n",
       "      <td>30.940001</td>\n",
       "      <td>30.760000</td>\n",
       "    </tr>\n",
       "    <tr>\n",
       "      <th>201</th>\n",
       "      <td>2022-10-20</td>\n",
       "      <td>30.76</td>\n",
       "      <td>1.725</td>\n",
       "      <td>31.299999</td>\n",
       "      <td>29.980000</td>\n",
       "    </tr>\n",
       "    <tr>\n",
       "      <th>202</th>\n",
       "      <td>2022-10-21</td>\n",
       "      <td>29.98</td>\n",
       "      <td>0.761</td>\n",
       "      <td>30.209999</td>\n",
       "      <td>29.690001</td>\n",
       "    </tr>\n",
       "  </tbody>\n",
       "</table>\n",
       "</div>"
      ],
      "text/plain": [
       "          Date  prev_close  chg%_premarket       Open      Close\n",
       "200 2022-10-19       30.50           1.422  30.940001  30.760000\n",
       "201 2022-10-20       30.76           1.725  31.299999  29.980000\n",
       "202 2022-10-21       29.98           0.761  30.209999  29.690001"
      ]
     },
     "execution_count": 131,
     "metadata": {},
     "output_type": "execute_result"
    }
   ],
   "source": [
    "start = dt.datetime(2022, 1, 1)\n",
    "end   = dt.datetime.today()  # almost today\n",
    "\n",
    "cols = ['Open', 'Close']\n",
    "\n",
    "df_vix = datareader.get_ticker('^VIX',start,end)[cols]\n",
    "\n",
    "## GAP up or GAP down.\n",
    "df_vix[\"prev_close\"] = df_vix.Close.shift(1)\n",
    "df_vix['chg%_premarket'] = 100*-1*df_vix[['Open','prev_close']].pct_change(axis=1)['prev_close'].round(5)\n",
    "df_vix.reset_index(inplace=True)\n",
    "\n",
    "cols_print = ['Date','prev_close', 'chg%_premarket'] + cols\n",
    "df_vix[cols_print].tail(3)"
   ]
  },
  {
   "cell_type": "code",
   "execution_count": 132,
   "id": "e1b9a5a2",
   "metadata": {},
   "outputs": [
    {
     "data": {
      "text/html": [
       "<div>\n",
       "<style scoped>\n",
       "    .dataframe tbody tr th:only-of-type {\n",
       "        vertical-align: middle;\n",
       "    }\n",
       "\n",
       "    .dataframe tbody tr th {\n",
       "        vertical-align: top;\n",
       "    }\n",
       "\n",
       "    .dataframe thead th {\n",
       "        text-align: right;\n",
       "    }\n",
       "</style>\n",
       "<table border=\"1\" class=\"dataframe\">\n",
       "  <thead>\n",
       "    <tr style=\"text-align: right;\">\n",
       "      <th></th>\n",
       "      <th>Date</th>\n",
       "      <th>prev_close</th>\n",
       "      <th>chg%_premarket</th>\n",
       "      <th>open</th>\n",
       "      <th>close</th>\n",
       "      <th>volume</th>\n",
       "      <th>chg%_intraday</th>\n",
       "    </tr>\n",
       "  </thead>\n",
       "  <tbody>\n",
       "    <tr>\n",
       "      <th>200</th>\n",
       "      <td>2022-10-19</td>\n",
       "      <td>371.130005</td>\n",
       "      <td>-0.580</td>\n",
       "      <td>368.989990</td>\n",
       "      <td>368.500000</td>\n",
       "      <td>79746900</td>\n",
       "      <td>-0.133</td>\n",
       "    </tr>\n",
       "    <tr>\n",
       "      <th>201</th>\n",
       "      <td>2022-10-20</td>\n",
       "      <td>368.500000</td>\n",
       "      <td>-0.128</td>\n",
       "      <td>368.029999</td>\n",
       "      <td>365.410004</td>\n",
       "      <td>88283100</td>\n",
       "      <td>-0.717</td>\n",
       "    </tr>\n",
       "    <tr>\n",
       "      <th>202</th>\n",
       "      <td>2022-10-21</td>\n",
       "      <td>365.410004</td>\n",
       "      <td>-0.079</td>\n",
       "      <td>365.119995</td>\n",
       "      <td>374.290009</td>\n",
       "      <td>130897700</td>\n",
       "      <td>2.450</td>\n",
       "    </tr>\n",
       "  </tbody>\n",
       "</table>\n",
       "</div>"
      ],
      "text/plain": [
       "          Date  prev_close  chg%_premarket        open       close     volume  \\\n",
       "200 2022-10-19  371.130005          -0.580  368.989990  368.500000   79746900   \n",
       "201 2022-10-20  368.500000          -0.128  368.029999  365.410004   88283100   \n",
       "202 2022-10-21  365.410004          -0.079  365.119995  374.290009  130897700   \n",
       "\n",
       "     chg%_intraday  \n",
       "200         -0.133  \n",
       "201         -0.717  \n",
       "202          2.450  "
      ]
     },
     "execution_count": 132,
     "metadata": {},
     "output_type": "execute_result"
    }
   ],
   "source": [
    "cols = ['open', 'close', 'volume']\n",
    "df_spy = yf.get_data_startdate(\"SPY\", '01/01/2022')[cols]\n",
    "\n",
    "\n",
    "## GAP up or GAP down.\n",
    "df_spy[\"prev_close\"] = df_spy.close.shift(1)\n",
    "df_spy['chg%_premarket'] = 100*-1*df_spy[['open','prev_close']].pct_change(axis=1)['prev_close'].round(5)\n",
    "\n",
    "## Cuanto movió en el dia.\n",
    "df_spy['chg%_intraday'] =  100*-1*((df_spy['open'] - df_spy['close'])/df_spy['close']).round(5)\n",
    "\n",
    "df_spy.reset_index(inplace=True)\n",
    "df_spy.rename(columns={\"index\":\"Date\"},inplace=True)\n",
    "\n",
    "## esta es una funcion nativa\n",
    "#df_spy['Chg%_intraday2'] = 100*df_spy[['open','close']].pct_change(axis=1)['close'].round(5)\n",
    "cols_print = ['Date','prev_close', 'chg%_premarket', 'open', 'close', 'volume','chg%_intraday']\n",
    "df_spy[cols_print].tail(3)"
   ]
  },
  {
   "cell_type": "code",
   "execution_count": 133,
   "id": "f5ef2314",
   "metadata": {},
   "outputs": [],
   "source": [
    "#. join both dataframes"
   ]
  },
  {
   "cell_type": "code",
   "execution_count": 124,
   "id": "1f6bbdca",
   "metadata": {},
   "outputs": [],
   "source": [
    "def filter_df_vix_spy(df, filter1, filter2):\n",
    "    return df.where(filter1 & filter2).dropna()\n",
    "\n",
    "def count_stats_vix_spy(df, condition, filter1):\n",
    "    df2 = df.where(filter1).dropna()\n",
    "    df2[\"condition\"] = condition\n",
    "    \n",
    "    return df2"
   ]
  },
  {
   "cell_type": "code",
   "execution_count": 125,
   "id": "5b1c51a0",
   "metadata": {},
   "outputs": [],
   "source": [
    "df_join_vix_spy = pd.merge(\n",
    "    df_vix,\n",
    "    df_spy,\n",
    "    how=\"inner\",\n",
    "    on=\"Date\",\n",
    "    suffixes=(\"_vix\", \"_spy\")\n",
    ")"
   ]
  },
  {
   "cell_type": "markdown",
   "id": "95f3a5bb",
   "metadata": {},
   "source": [
    "df_join_vix_spy.tail(40)"
   ]
  },
  {
   "cell_type": "code",
   "execution_count": 126,
   "id": "494903a5",
   "metadata": {},
   "outputs": [],
   "source": [
    "cols=[\"Date\",\"chg%_premarket_vix\",\"chg%_premarket_spy\",\"chg%_intraday\"]\n",
    "df_vix_spy = df_join_vix_spy[cols]"
   ]
  },
  {
   "cell_type": "code",
   "execution_count": 127,
   "id": "859d5426",
   "metadata": {},
   "outputs": [
    {
     "data": {
      "text/html": [
       "<div>\n",
       "<style scoped>\n",
       "    .dataframe tbody tr th:only-of-type {\n",
       "        vertical-align: middle;\n",
       "    }\n",
       "\n",
       "    .dataframe tbody tr th {\n",
       "        vertical-align: top;\n",
       "    }\n",
       "\n",
       "    .dataframe thead th {\n",
       "        text-align: right;\n",
       "    }\n",
       "</style>\n",
       "<table border=\"1\" class=\"dataframe\">\n",
       "  <thead>\n",
       "    <tr style=\"text-align: right;\">\n",
       "      <th></th>\n",
       "      <th>Date</th>\n",
       "      <th>chg%_premarket_vix</th>\n",
       "      <th>chg%_premarket_spy</th>\n",
       "      <th>chg%_intraday</th>\n",
       "    </tr>\n",
       "  </thead>\n",
       "  <tbody>\n",
       "    <tr>\n",
       "      <th>695</th>\n",
       "      <td>2022-10-05</td>\n",
       "      <td>0.988</td>\n",
       "      <td>-1.227</td>\n",
       "      <td>0.981</td>\n",
       "    </tr>\n",
       "    <tr>\n",
       "      <th>696</th>\n",
       "      <td>2022-10-06</td>\n",
       "      <td>0.175</td>\n",
       "      <td>-0.391</td>\n",
       "      <td>-0.648</td>\n",
       "    </tr>\n",
       "    <tr>\n",
       "      <th>697</th>\n",
       "      <td>2022-10-07</td>\n",
       "      <td>-0.494</td>\n",
       "      <td>-1.146</td>\n",
       "      <td>-1.703</td>\n",
       "    </tr>\n",
       "    <tr>\n",
       "      <th>701</th>\n",
       "      <td>2022-10-13</td>\n",
       "      <td>0.089</td>\n",
       "      <td>-2.105</td>\n",
       "      <td>4.580</td>\n",
       "    </tr>\n",
       "    <tr>\n",
       "      <th>707</th>\n",
       "      <td>2022-10-21</td>\n",
       "      <td>0.761</td>\n",
       "      <td>-0.079</td>\n",
       "      <td>2.450</td>\n",
       "    </tr>\n",
       "  </tbody>\n",
       "</table>\n",
       "</div>"
      ],
      "text/plain": [
       "          Date  chg%_premarket_vix  chg%_premarket_spy  chg%_intraday\n",
       "695 2022-10-05               0.988              -1.227          0.981\n",
       "696 2022-10-06               0.175              -0.391         -0.648\n",
       "697 2022-10-07              -0.494              -1.146         -1.703\n",
       "701 2022-10-13               0.089              -2.105          4.580\n",
       "707 2022-10-21               0.761              -0.079          2.450"
      ]
     },
     "execution_count": 127,
     "metadata": {},
     "output_type": "execute_result"
    }
   ],
   "source": [
    "filter1 = df_vix_spy[\"chg%_premarket_vix\"] < 1\n",
    "filter2 = df_vix_spy[\"chg%_premarket_spy\"] < 0\n",
    "\n",
    "df_vix_spy_neg = filter_df_vix_spy(df_vix_spy,filter1,filter2)\n",
    "df_vix_spy_neg.tail(5)"
   ]
  },
  {
   "cell_type": "code",
   "execution_count": 128,
   "id": "aa3f634d",
   "metadata": {},
   "outputs": [],
   "source": [
    "filterSpy1 = df_vix_spy_neg[\"chg%_intraday\"] < 0\n",
    "filterSpy2 = df_vix_spy_neg[\"chg%_intraday\"] > 0\n",
    "\n",
    "df_stats1 = count_stats_vix_spy(df_vix_spy_neg, \"both_neg_&_spy_close_neg\", filterSpy1)\n",
    "df_stats2 = count_stats_vix_spy(df_vix_spy_neg, \"both_neg_&_spy_close_pos\", filterSpy2)"
   ]
  },
  {
   "cell_type": "code",
   "execution_count": 129,
   "id": "7463a881",
   "metadata": {},
   "outputs": [],
   "source": [
    "data = [df_stats1, df_stats2]\n",
    "df_stats = pd.concat(data, ignore_index=True, sort=False)"
   ]
  },
  {
   "cell_type": "code",
   "execution_count": 130,
   "id": "81477a6d",
   "metadata": {},
   "outputs": [
    {
     "data": {
      "text/plain": [
       "condition\n",
       "both_neg_&_spy_close_neg    55\n",
       "both_neg_&_spy_close_pos    60\n",
       "Name: condition, dtype: int64"
      ]
     },
     "execution_count": 130,
     "metadata": {},
     "output_type": "execute_result"
    }
   ],
   "source": [
    "df_stats_count = df_stats.groupby(['condition'])['condition'].count()\n",
    "df_stats_count"
   ]
  },
  {
   "cell_type": "code",
   "execution_count": null,
   "id": "06ae37d1",
   "metadata": {},
   "outputs": [],
   "source": []
  },
  {
   "cell_type": "code",
   "execution_count": null,
   "id": "1f87eccb",
   "metadata": {},
   "outputs": [],
   "source": []
  },
  {
   "cell_type": "markdown",
   "id": "af346de1-7d6e-4976-84c9-35b61d8782e5",
   "metadata": {},
   "source": [
    "## Get All Stock Symbols"
   ]
  },
  {
   "cell_type": "raw",
   "id": "a2ac1be3-0b81-4ec2-aa01-455b56324f35",
   "metadata": {},
   "source": [
    "yf.tickers_spy"
   ]
  },
  {
   "cell_type": "raw",
   "id": "7f55ac7c-4b6a-4e9e-a1f5-3e0e132dba12",
   "metadata": {},
   "source": [
    "yf.get_stats(\"SPY\")"
   ]
  },
  {
   "cell_type": "raw",
   "id": "d460ccfc-1909-4a5e-9bfc-968154f77cf4",
   "metadata": {},
   "source": [
    "yf.get_stats_valuation(\"AAPL\")"
   ]
  },
  {
   "cell_type": "markdown",
   "id": "4f1fc1a0-a2a5-4267-99da-1a6b4d506eae",
   "metadata": {},
   "source": [
    "## Financial: Income, Balance and Cash flow"
   ]
  },
  {
   "cell_type": "code",
   "execution_count": null,
   "id": "6dcf91ac-642d-46d1-be6a-b13fb5f236b5",
   "metadata": {},
   "outputs": [],
   "source": [
    "yearly_json = yf.get_financials(\"AAPL\",True,False) # yearly\n",
    "quarterly_json = yf.get_financials(\"AAPL\",False,True) # quarterly"
   ]
  },
  {
   "cell_type": "raw",
   "id": "0f22d702-59de-49e9-9895-f16bb5886450",
   "metadata": {},
   "source": [
    "temp1 = yearly_json[\"yearly_income_statement\"]\n",
    "temp2 = yearly_json[\"qyearly_balance_sheet\"]\n",
    "temp3 = yearly_json[\"yearly_cash_flow\"]"
   ]
  },
  {
   "cell_type": "code",
   "execution_count": null,
   "id": "1d24fb59-195c-4618-b8b3-05e4d123947e",
   "metadata": {},
   "outputs": [],
   "source": [
    "temp1 = quarterly_json[\"quarterly_income_statement\"]\n",
    "temp2 = quarterly_json[\"quarterly_balance_sheet\"]\n",
    "temp3 = quarterly_json[\"quarterly_cash_flow\"]"
   ]
  },
  {
   "cell_type": "code",
   "execution_count": null,
   "id": "e966ba3f-4d7f-45b7-a6f5-91840b50f9f1",
   "metadata": {},
   "outputs": [],
   "source": [
    "##add_thousand_comma_separator(temp1,\"2021-12-25\")"
   ]
  },
  {
   "cell_type": "code",
   "execution_count": null,
   "id": "072ce4f5-cbea-426b-8453-2a65e69eb1f8",
   "metadata": {},
   "outputs": [],
   "source": [
    "temp1 = yf.convert_dataframe_reset_index(temp1)\n",
    "temp11 = yf.rename_columns_dataframe(temp1)\n",
    "temp11_1 = yf.convert_quarters_to_currency_format(temp11)\n",
    "temp11_1"
   ]
  },
  {
   "cell_type": "code",
   "execution_count": null,
   "id": "3e1fbf0c-90a0-4689-82ae-f4049f9218af",
   "metadata": {},
   "outputs": [],
   "source": [
    "temp11.dtypes"
   ]
  },
  {
   "cell_type": "raw",
   "id": "a5aada60-e786-4446-abda-0dd3e02955e6",
   "metadata": {},
   "source": [
    "yf.get_day_most_active()"
   ]
  },
  {
   "cell_type": "code",
   "execution_count": null,
   "id": "3c4d72e6",
   "metadata": {},
   "outputs": [],
   "source": []
  }
 ],
 "metadata": {
  "kernelspec": {
   "display_name": "Python 3 (ipykernel)",
   "language": "python",
   "name": "python3"
  },
  "language_info": {
   "codemirror_mode": {
    "name": "ipython",
    "version": 3
   },
   "file_extension": ".py",
   "mimetype": "text/x-python",
   "name": "python",
   "nbconvert_exporter": "python",
   "pygments_lexer": "ipython3",
   "version": "3.9.7"
  }
 },
 "nbformat": 4,
 "nbformat_minor": 5
}
