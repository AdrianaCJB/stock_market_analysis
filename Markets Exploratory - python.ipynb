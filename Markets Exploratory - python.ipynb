{
 "cells": [
  {
   "cell_type": "markdown",
   "id": "4a36d989-a57d-4e45-8a4c-be86e7a16689",
   "metadata": {},
   "source": [
    "## Install libraries"
   ]
  },
  {
   "cell_type": "code",
   "execution_count": 1,
   "id": "e62f30f1-b8a2-4929-be7c-40bab83425d8",
   "metadata": {},
   "outputs": [],
   "source": [
    "# !pip install yahoo_fin"
   ]
  },
  {
   "cell_type": "markdown",
   "id": "66b1141f-2c3f-4551-a625-087a8f588ba6",
   "metadata": {},
   "source": [
    "## Import libraries"
   ]
  },
  {
   "cell_type": "code",
   "execution_count": 2,
   "id": "48337d50-f7d3-4306-88dc-5ed72ccc2fec",
   "metadata": {},
   "outputs": [],
   "source": [
    "import all_stocks_symbols as lib_stocks"
   ]
  },
  {
   "cell_type": "markdown",
   "id": "af346de1-7d6e-4976-84c9-35b61d8782e5",
   "metadata": {},
   "source": [
    "## Get All Stock Symbols"
   ]
  },
  {
   "cell_type": "raw",
   "id": "a2ac1be3-0b81-4ec2-aa01-455b56324f35",
   "metadata": {},
   "source": [
    "lib_stocks.tickers_spy"
   ]
  },
  {
   "cell_type": "raw",
   "id": "7f55ac7c-4b6a-4e9e-a1f5-3e0e132dba12",
   "metadata": {},
   "source": [
    "lib_stocks.get_stats(\"AAPL\")"
   ]
  },
  {
   "cell_type": "raw",
   "id": "d460ccfc-1909-4a5e-9bfc-968154f77cf4",
   "metadata": {},
   "source": [
    "lib_stocks.get_stats_valuation(\"AAPL\")"
   ]
  },
  {
   "cell_type": "markdown",
   "id": "4f1fc1a0-a2a5-4267-99da-1a6b4d506eae",
   "metadata": {},
   "source": [
    "## Financial: Income, Balance and Cash flow"
   ]
  },
  {
   "cell_type": "code",
   "execution_count": 3,
   "id": "6dcf91ac-642d-46d1-be6a-b13fb5f236b5",
   "metadata": {},
   "outputs": [],
   "source": [
    "yearly_json = lib_stocks.get_financials(\"AAPL\",True,False) # yearly\n",
    "quarterly_json = lib_stocks.get_financials(\"AAPL\",False,True) # quarterly"
   ]
  },
  {
   "cell_type": "raw",
   "id": "0f22d702-59de-49e9-9895-f16bb5886450",
   "metadata": {},
   "source": [
    "temp1 = yearly_json[\"yearly_income_statement\"]\n",
    "temp2 = yearly_json[\"qyearly_balance_sheet\"]\n",
    "temp3 = yearly_json[\"yearly_cash_flow\"]"
   ]
  },
  {
   "cell_type": "code",
   "execution_count": 4,
   "id": "1d24fb59-195c-4618-b8b3-05e4d123947e",
   "metadata": {},
   "outputs": [],
   "source": [
    "temp1 = quarterly_json[\"quarterly_income_statement\"]\n",
    "temp2 = quarterly_json[\"quarterly_balance_sheet\"]\n",
    "temp3 = quarterly_json[\"quarterly_cash_flow\"]"
   ]
  },
  {
   "cell_type": "code",
   "execution_count": 5,
   "id": "e966ba3f-4d7f-45b7-a6f5-91840b50f9f1",
   "metadata": {},
   "outputs": [],
   "source": [
    "##add_thousand_comma_separator(temp1,\"2021-12-25\")"
   ]
  },
  {
   "cell_type": "code",
   "execution_count": 6,
   "id": "072ce4f5-cbea-426b-8453-2a65e69eb1f8",
   "metadata": {},
   "outputs": [
    {
     "data": {
      "text/html": [
       "<div>\n",
       "<style scoped>\n",
       "    .dataframe tbody tr th:only-of-type {\n",
       "        vertical-align: middle;\n",
       "    }\n",
       "\n",
       "    .dataframe tbody tr th {\n",
       "        vertical-align: top;\n",
       "    }\n",
       "\n",
       "    .dataframe thead th {\n",
       "        text-align: right;\n",
       "    }\n",
       "</style>\n",
       "<table border=\"1\" class=\"dataframe\">\n",
       "  <thead>\n",
       "    <tr style=\"text-align: right;\">\n",
       "      <th></th>\n",
       "      <th>Breakdown</th>\n",
       "      <th>2021Q4</th>\n",
       "      <th>2021Q3</th>\n",
       "      <th>2021Q2</th>\n",
       "      <th>2021Q1</th>\n",
       "    </tr>\n",
       "  </thead>\n",
       "  <tbody>\n",
       "    <tr>\n",
       "      <th>0</th>\n",
       "      <td>researchDevelopment</td>\n",
       "      <td>$6,306,000,000</td>\n",
       "      <td>$5,772,000,000</td>\n",
       "      <td>$5,717,000,000</td>\n",
       "      <td>$5,262,000,000</td>\n",
       "    </tr>\n",
       "    <tr>\n",
       "      <th>1</th>\n",
       "      <td>effectOfAccountingCharges</td>\n",
       "      <td>$0</td>\n",
       "      <td>$0</td>\n",
       "      <td>$0</td>\n",
       "      <td>$0</td>\n",
       "    </tr>\n",
       "    <tr>\n",
       "      <th>2</th>\n",
       "      <td>incomeBeforeTax</td>\n",
       "      <td>$41,241,000,000</td>\n",
       "      <td>$23,248,000,000</td>\n",
       "      <td>$24,369,000,000</td>\n",
       "      <td>$28,011,000,000</td>\n",
       "    </tr>\n",
       "    <tr>\n",
       "      <th>3</th>\n",
       "      <td>minorityInterest</td>\n",
       "      <td>$0</td>\n",
       "      <td>$0</td>\n",
       "      <td>$0</td>\n",
       "      <td>$0</td>\n",
       "    </tr>\n",
       "    <tr>\n",
       "      <th>4</th>\n",
       "      <td>netIncome</td>\n",
       "      <td>$34,630,000,000</td>\n",
       "      <td>$20,551,000,000</td>\n",
       "      <td>$21,744,000,000</td>\n",
       "      <td>$23,630,000,000</td>\n",
       "    </tr>\n",
       "    <tr>\n",
       "      <th>5</th>\n",
       "      <td>sellingGeneralAdministrative</td>\n",
       "      <td>$6,449,000,000</td>\n",
       "      <td>$5,616,000,000</td>\n",
       "      <td>$5,412,000,000</td>\n",
       "      <td>$5,314,000,000</td>\n",
       "    </tr>\n",
       "    <tr>\n",
       "      <th>6</th>\n",
       "      <td>grossProfit</td>\n",
       "      <td>$54,243,000,000</td>\n",
       "      <td>$35,174,000,000</td>\n",
       "      <td>$35,255,000,000</td>\n",
       "      <td>$38,079,000,000</td>\n",
       "    </tr>\n",
       "    <tr>\n",
       "      <th>7</th>\n",
       "      <td>ebit</td>\n",
       "      <td>$41,488,000,000</td>\n",
       "      <td>$23,786,000,000</td>\n",
       "      <td>$24,126,000,000</td>\n",
       "      <td>$27,503,000,000</td>\n",
       "    </tr>\n",
       "    <tr>\n",
       "      <th>8</th>\n",
       "      <td>operatingIncome</td>\n",
       "      <td>$41,488,000,000</td>\n",
       "      <td>$23,786,000,000</td>\n",
       "      <td>$24,126,000,000</td>\n",
       "      <td>$27,503,000,000</td>\n",
       "    </tr>\n",
       "    <tr>\n",
       "      <th>9</th>\n",
       "      <td>otherOperatingExpenses</td>\n",
       "      <td>$0</td>\n",
       "      <td>$0</td>\n",
       "      <td>$0</td>\n",
       "      <td>$0</td>\n",
       "    </tr>\n",
       "    <tr>\n",
       "      <th>10</th>\n",
       "      <td>interestExpense</td>\n",
       "      <td>$-694,000,000</td>\n",
       "      <td>$-672,000,000</td>\n",
       "      <td>$-665,000,000</td>\n",
       "      <td>$-670,000,000</td>\n",
       "    </tr>\n",
       "    <tr>\n",
       "      <th>11</th>\n",
       "      <td>extraordinaryItems</td>\n",
       "      <td>$0</td>\n",
       "      <td>$0</td>\n",
       "      <td>$0</td>\n",
       "      <td>$0</td>\n",
       "    </tr>\n",
       "    <tr>\n",
       "      <th>12</th>\n",
       "      <td>nonRecurring</td>\n",
       "      <td>$0</td>\n",
       "      <td>$0</td>\n",
       "      <td>$0</td>\n",
       "      <td>$0</td>\n",
       "    </tr>\n",
       "    <tr>\n",
       "      <th>13</th>\n",
       "      <td>otherItems</td>\n",
       "      <td>$0</td>\n",
       "      <td>$0</td>\n",
       "      <td>$0</td>\n",
       "      <td>$0</td>\n",
       "    </tr>\n",
       "    <tr>\n",
       "      <th>14</th>\n",
       "      <td>incomeTaxExpense</td>\n",
       "      <td>$6,611,000,000</td>\n",
       "      <td>$2,697,000,000</td>\n",
       "      <td>$2,625,000,000</td>\n",
       "      <td>$4,381,000,000</td>\n",
       "    </tr>\n",
       "    <tr>\n",
       "      <th>15</th>\n",
       "      <td>totalRevenue</td>\n",
       "      <td>$123,945,000,000</td>\n",
       "      <td>$83,360,000,000</td>\n",
       "      <td>$81,434,000,000</td>\n",
       "      <td>$89,584,000,000</td>\n",
       "    </tr>\n",
       "    <tr>\n",
       "      <th>16</th>\n",
       "      <td>totalOperatingExpenses</td>\n",
       "      <td>$82,457,000,000</td>\n",
       "      <td>$59,574,000,000</td>\n",
       "      <td>$57,308,000,000</td>\n",
       "      <td>$62,081,000,000</td>\n",
       "    </tr>\n",
       "    <tr>\n",
       "      <th>17</th>\n",
       "      <td>costOfRevenue</td>\n",
       "      <td>$69,702,000,000</td>\n",
       "      <td>$48,186,000,000</td>\n",
       "      <td>$46,179,000,000</td>\n",
       "      <td>$51,505,000,000</td>\n",
       "    </tr>\n",
       "    <tr>\n",
       "      <th>18</th>\n",
       "      <td>totalOtherIncomeExpenseNet</td>\n",
       "      <td>$-247,000,000</td>\n",
       "      <td>$-538,000,000</td>\n",
       "      <td>$243,000,000</td>\n",
       "      <td>$508,000,000</td>\n",
       "    </tr>\n",
       "    <tr>\n",
       "      <th>19</th>\n",
       "      <td>discontinuedOperations</td>\n",
       "      <td>$0</td>\n",
       "      <td>$0</td>\n",
       "      <td>$0</td>\n",
       "      <td>$0</td>\n",
       "    </tr>\n",
       "    <tr>\n",
       "      <th>20</th>\n",
       "      <td>netIncomeFromContinuingOps</td>\n",
       "      <td>$34,630,000,000</td>\n",
       "      <td>$20,551,000,000</td>\n",
       "      <td>$21,744,000,000</td>\n",
       "      <td>$23,630,000,000</td>\n",
       "    </tr>\n",
       "    <tr>\n",
       "      <th>21</th>\n",
       "      <td>netIncomeApplicableToCommonShares</td>\n",
       "      <td>$34,630,000,000</td>\n",
       "      <td>$20,551,000,000</td>\n",
       "      <td>$21,744,000,000</td>\n",
       "      <td>$23,630,000,000</td>\n",
       "    </tr>\n",
       "  </tbody>\n",
       "</table>\n",
       "</div>"
      ],
      "text/plain": [
       "                            Breakdown            2021Q4           2021Q3  \\\n",
       "0                 researchDevelopment    $6,306,000,000   $5,772,000,000   \n",
       "1           effectOfAccountingCharges                $0               $0   \n",
       "2                     incomeBeforeTax   $41,241,000,000  $23,248,000,000   \n",
       "3                    minorityInterest                $0               $0   \n",
       "4                           netIncome   $34,630,000,000  $20,551,000,000   \n",
       "5        sellingGeneralAdministrative    $6,449,000,000   $5,616,000,000   \n",
       "6                         grossProfit   $54,243,000,000  $35,174,000,000   \n",
       "7                                ebit   $41,488,000,000  $23,786,000,000   \n",
       "8                     operatingIncome   $41,488,000,000  $23,786,000,000   \n",
       "9              otherOperatingExpenses                $0               $0   \n",
       "10                    interestExpense     $-694,000,000    $-672,000,000   \n",
       "11                 extraordinaryItems                $0               $0   \n",
       "12                       nonRecurring                $0               $0   \n",
       "13                         otherItems                $0               $0   \n",
       "14                   incomeTaxExpense    $6,611,000,000   $2,697,000,000   \n",
       "15                       totalRevenue  $123,945,000,000  $83,360,000,000   \n",
       "16             totalOperatingExpenses   $82,457,000,000  $59,574,000,000   \n",
       "17                      costOfRevenue   $69,702,000,000  $48,186,000,000   \n",
       "18         totalOtherIncomeExpenseNet     $-247,000,000    $-538,000,000   \n",
       "19             discontinuedOperations                $0               $0   \n",
       "20         netIncomeFromContinuingOps   $34,630,000,000  $20,551,000,000   \n",
       "21  netIncomeApplicableToCommonShares   $34,630,000,000  $20,551,000,000   \n",
       "\n",
       "             2021Q2           2021Q1  \n",
       "0    $5,717,000,000   $5,262,000,000  \n",
       "1                $0               $0  \n",
       "2   $24,369,000,000  $28,011,000,000  \n",
       "3                $0               $0  \n",
       "4   $21,744,000,000  $23,630,000,000  \n",
       "5    $5,412,000,000   $5,314,000,000  \n",
       "6   $35,255,000,000  $38,079,000,000  \n",
       "7   $24,126,000,000  $27,503,000,000  \n",
       "8   $24,126,000,000  $27,503,000,000  \n",
       "9                $0               $0  \n",
       "10    $-665,000,000    $-670,000,000  \n",
       "11               $0               $0  \n",
       "12               $0               $0  \n",
       "13               $0               $0  \n",
       "14   $2,625,000,000   $4,381,000,000  \n",
       "15  $81,434,000,000  $89,584,000,000  \n",
       "16  $57,308,000,000  $62,081,000,000  \n",
       "17  $46,179,000,000  $51,505,000,000  \n",
       "18     $243,000,000     $508,000,000  \n",
       "19               $0               $0  \n",
       "20  $21,744,000,000  $23,630,000,000  \n",
       "21  $21,744,000,000  $23,630,000,000  "
      ]
     },
     "execution_count": 6,
     "metadata": {},
     "output_type": "execute_result"
    }
   ],
   "source": [
    "temp1 = lib_stocks.convert_dataframe_reset_index(temp1)\n",
    "temp11 = lib_stocks.rename_columns_dataframe(temp1)\n",
    "temp11_1 = lib_stocks.convert_quarters_to_currency_format(temp11)\n",
    "temp11_1"
   ]
  },
  {
   "cell_type": "code",
   "execution_count": 7,
   "id": "3e1fbf0c-90a0-4689-82ae-f4049f9218af",
   "metadata": {},
   "outputs": [
    {
     "data": {
      "text/plain": [
       "Breakdown    object\n",
       "2021Q4       object\n",
       "2021Q3       object\n",
       "2021Q2       object\n",
       "2021Q1       object\n",
       "dtype: object"
      ]
     },
     "execution_count": 7,
     "metadata": {},
     "output_type": "execute_result"
    }
   ],
   "source": [
    "temp11.dtypes"
   ]
  },
  {
   "cell_type": "raw",
   "id": "a5aada60-e786-4446-abda-0dd3e02955e6",
   "metadata": {},
   "source": [
    "lib_stocks.get_day_most_active()"
   ]
  },
  {
   "cell_type": "code",
   "execution_count": null,
   "id": "0a505282",
   "metadata": {},
   "outputs": [],
   "source": []
  }
 ],
 "metadata": {
  "kernelspec": {
   "display_name": "Python 3 (ipykernel)",
   "language": "python",
   "name": "python3"
  },
  "language_info": {
   "codemirror_mode": {
    "name": "ipython",
    "version": 3
   },
   "file_extension": ".py",
   "mimetype": "text/x-python",
   "name": "python",
   "nbconvert_exporter": "python",
   "pygments_lexer": "ipython3",
   "version": "3.9.7"
  }
 },
 "nbformat": 4,
 "nbformat_minor": 5
}
